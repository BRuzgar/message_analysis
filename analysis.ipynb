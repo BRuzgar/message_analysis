{
 "cells": [
  {
   "cell_type": "markdown",
   "metadata": {},
   "source": [
    "** Text Message Analysis**\n",
    "\n",
    "Issue Reporting: Create a text message analysis application. The user should provide a text message as input and have the application determine the number of words, the number of sentences and the number of characters in the message.\n",
    "\n",
    "Task: Analyse the text message provided by the user to provide the following information:\n",
    "\n",
    "    Total word count\n",
    "    Total number of sentences\n",
    "    Total number of characters\n",
    "\n",
    "Bonus: Analyse the text message provided by the user, while at the same time identifying the most frequently used words or characters and report to the user."
   ]
  },
  {
   "cell_type": "code",
   "execution_count": 4,
   "metadata": {},
   "outputs": [
    {
     "name": "stdout",
     "output_type": "stream",
     "text": [
      "Just do it. We will see future.\n",
      "Total number of words: 7\n",
      "Total number of sentences: 2\n",
      "Total number of characters: 31\n"
     ]
    }
   ],
   "source": [
    "message = input(\"Lütfen metin mesajını giriniz: \")\n",
    "\n",
    "word_count = len(message.split())\n",
    "sentence_count = message.count(\".\") + message.count(\"!\") + message.count(\"?\")\n",
    "characters_count = len(message)\n",
    "\n",
    "print(message)\n",
    "print(f\"Total number of words: {word_count}\")\n",
    "print(f\"Total number of sentences: {sentence_count}\")\n",
    "print(f\"Total number of characters: {characters_count}\")"
   ]
  }
 ],
 "metadata": {
  "kernelspec": {
   "display_name": "Python 3",
   "language": "python",
   "name": "python3"
  },
  "language_info": {
   "codemirror_mode": {
    "name": "ipython",
    "version": 3
   },
   "file_extension": ".py",
   "mimetype": "text/x-python",
   "name": "python",
   "nbconvert_exporter": "python",
   "pygments_lexer": "ipython3",
   "version": "3.12.4"
  }
 },
 "nbformat": 4,
 "nbformat_minor": 2
}
